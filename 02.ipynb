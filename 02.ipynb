{
 "cells": [
  {
   "cell_type": "markdown",
   "id": "95c5e2af",
   "metadata": {},
   "source": [
    "# AOC 2021.02"
   ]
  },
  {
   "cell_type": "markdown",
   "id": "97c1c29e",
   "metadata": {},
   "source": [
    "## Part 1"
   ]
  },
  {
   "cell_type": "code",
   "execution_count": 11,
   "id": "b75bb6d7",
   "metadata": {},
   "outputs": [],
   "source": [
    "# initialize list of commands\n",
    "\n",
    "command_file = open('./inputs/02.01_commands.txt')\n",
    "commands = command_file.read().splitlines()"
   ]
  },
  {
   "cell_type": "code",
   "execution_count": 17,
   "id": "0e237b3b",
   "metadata": {},
   "outputs": [],
   "source": [
    "def get_distance(command):\n",
    "    distance_str = command.split(\" \")[1]\n",
    "    return int(distance_str)\n",
    "\n",
    "def p1(commands):\n",
    "    # parse each command\n",
    "    \n",
    "    x=0\n",
    "    y=0\n",
    "    \n",
    "    for command in commands:\n",
    "        if 'forward' in command:\n",
    "            x+=get_distance(command)\n",
    "        \n",
    "        if 'down' in command:\n",
    "            y+=get_distance(command)\n",
    "            \n",
    "        if 'up' in command:\n",
    "            y-=get_distance(command)\n",
    "\n",
    "    return x * y"
   ]
  },
  {
   "cell_type": "code",
   "execution_count": 4,
   "id": "82c3bae2",
   "metadata": {},
   "outputs": [
    {
     "data": {
      "text/plain": [
       "5"
      ]
     },
     "execution_count": 4,
     "metadata": {},
     "output_type": "execute_result"
    }
   ],
   "source": [
    "# test parsing of command string\n",
    "get_distance('forward 5')"
   ]
  },
  {
   "cell_type": "code",
   "execution_count": 18,
   "id": "b654e758",
   "metadata": {},
   "outputs": [
    {
     "data": {
      "text/plain": [
       "'Command other than up, down, forward was found'"
      ]
     },
     "execution_count": 18,
     "metadata": {},
     "output_type": "execute_result"
    }
   ],
   "source": [
    "# test with example\n",
    "test_commands =[\n",
    "    \"forward 5\",\n",
    "    \"down 5\",\n",
    "    \"forward 8\",\n",
    "    \"up 3\",\n",
    "    \"down 8\",\n",
    "    \"forward 2\"\n",
    "]\n",
    "\n",
    "p1(test_commands)"
   ]
  },
  {
   "cell_type": "code",
   "execution_count": 12,
   "id": "f2960b7e",
   "metadata": {},
   "outputs": [
    {
     "data": {
      "text/plain": [
       "1499229"
      ]
     },
     "execution_count": 12,
     "metadata": {},
     "output_type": "execute_result"
    }
   ],
   "source": [
    "p1(commands)"
   ]
  },
  {
   "cell_type": "markdown",
   "id": "af64892d",
   "metadata": {},
   "source": [
    "## Part 2"
   ]
  },
  {
   "cell_type": "code",
   "execution_count": 19,
   "id": "91b8bcde",
   "metadata": {},
   "outputs": [],
   "source": [
    "# initialize list of commands\n",
    "\n",
    "command_file = open('./inputs/02.01_commands.txt')\n",
    "commands = command_file.read().splitlines()"
   ]
  },
  {
   "cell_type": "code",
   "execution_count": 23,
   "id": "0849cc8d",
   "metadata": {},
   "outputs": [],
   "source": [
    "def get_distance(command):\n",
    "    distance_str = command.split(\" \")[1]\n",
    "    return int(distance_str)\n",
    "\n",
    "def p2(commands):\n",
    "    # parse each command\n",
    "    \n",
    "    x=0\n",
    "    y=0\n",
    "    aim=0\n",
    "    \n",
    "    for command in commands:\n",
    "        distance = get_distance(command)\n",
    "\n",
    "        if 'forward' in command:\n",
    "            x+= distance\n",
    "            y+= aim * distance\n",
    "        \n",
    "        if 'down' in command:\n",
    "            aim+=distance\n",
    "            \n",
    "        if 'up' in command:\n",
    "            aim-= distance\n",
    "\n",
    "    return x * y"
   ]
  },
  {
   "cell_type": "code",
   "execution_count": 25,
   "id": "bf27d094",
   "metadata": {},
   "outputs": [
    {
     "data": {
      "text/plain": [
       "900"
      ]
     },
     "execution_count": 25,
     "metadata": {},
     "output_type": "execute_result"
    }
   ],
   "source": [
    "# test with example commands\n",
    "p2(test_commands)"
   ]
  },
  {
   "cell_type": "code",
   "execution_count": 26,
   "id": "4ebc1e9f",
   "metadata": {},
   "outputs": [
    {
     "data": {
      "text/plain": [
       "1340836560"
      ]
     },
     "execution_count": 26,
     "metadata": {},
     "output_type": "execute_result"
    }
   ],
   "source": [
    "p2(commands)"
   ]
  }
 ],
 "metadata": {
  "kernelspec": {
   "display_name": "Python 3",
   "language": "python",
   "name": "python3"
  },
  "language_info": {
   "codemirror_mode": {
    "name": "ipython",
    "version": 3
   },
   "file_extension": ".py",
   "mimetype": "text/x-python",
   "name": "python",
   "nbconvert_exporter": "python",
   "pygments_lexer": "ipython3",
   "version": "3.8.8"
  }
 },
 "nbformat": 4,
 "nbformat_minor": 5
}
