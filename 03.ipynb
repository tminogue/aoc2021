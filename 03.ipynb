{
 "cells": [
  {
   "cell_type": "markdown",
   "id": "95c5e2af",
   "metadata": {},
   "source": [
    "# AOC 2021.03"
   ]
  },
  {
   "cell_type": "markdown",
   "id": "97c1c29e",
   "metadata": {},
   "source": [
    "## Part 1"
   ]
  },
  {
   "cell_type": "code",
   "execution_count": 209,
   "id": "b75bb6d7",
   "metadata": {},
   "outputs": [],
   "source": [
    "# initialize list of binary values\n",
    "\n",
    "binary_values_file = open('./inputs/03_binary_values.txt')\n",
    "binary_values = binary_values_file.read().splitlines()"
   ]
  },
  {
   "cell_type": "code",
   "execution_count": 105,
   "id": "0e237b3b",
   "metadata": {},
   "outputs": [],
   "source": [
    "import numpy as np\n",
    "\n",
    "def p1(binary_codes):\n",
    "    \n",
    "    gamma_bits=[]\n",
    "    epsilon_bits=[]\n",
    "    \n",
    "    values_width=len(binary_codes[0])\n",
    "    values_length=len(binary_codes)\n",
    "        \n",
    "    for position in range(values_width):\n",
    "        \n",
    "        bit_values = []\n",
    "        \n",
    "        for code in binary_codes:\n",
    "            bit_values.append(int(code[position]))\n",
    "            \n",
    "        ones_count = sum(bit_values)\n",
    "        zeroes_count = values_length - ones_count\n",
    "\n",
    "        # improvement is to build gamma and make epsilon a bitwise NOT\n",
    "        if (ones_count >= zeroes_count):\n",
    "            gamma_bit = '1'\n",
    "            epsilon_bit = '0'\n",
    "        else:\n",
    "            gamma_bit = '0'\n",
    "            epsilon_bit = '1'\n",
    "\n",
    "        gamma_bits.append(gamma_bit)\n",
    "        epsilon_bits.append(epsilon_bit)\n",
    "    \n",
    "    gamma_string = \"\".join(gamma_bits)\n",
    "    gamma = int(gamma_string, base=2)\n",
    "    \n",
    "    epsilon_string = \"\".join(epsilon_bits)\n",
    "    epsilon = int(epsilon_string, base=2)\n",
    "        \n",
    "#     print(f\"Gamma is {gamma}, Epsilon is {epsilon}\")                             \n",
    "    \n",
    "#     return gamma_string, epsilon_string\n",
    "    return gamma * epsilon"
   ]
  },
  {
   "cell_type": "code",
   "execution_count": 106,
   "id": "0e1bf04e",
   "metadata": {},
   "outputs": [
    {
     "data": {
      "text/plain": [
       "3985686"
      ]
     },
     "execution_count": 106,
     "metadata": {},
     "output_type": "execute_result"
    }
   ],
   "source": [
    "p1(binary_values)"
   ]
  },
  {
   "cell_type": "markdown",
   "id": "af64892d",
   "metadata": {},
   "source": [
    "## Part 2"
   ]
  },
  {
   "cell_type": "code",
   "execution_count": 212,
   "id": "bf27d094",
   "metadata": {},
   "outputs": [],
   "source": [
    "\n",
    "# calculate bit masks\n",
    "\n",
    "def get_bit_mask(binary_codes, inverted=False):\n",
    "    \n",
    "    mask=[]\n",
    "    \n",
    "    values_width=len(binary_codes[0])\n",
    "    values_length=len(binary_codes)\n",
    "        \n",
    "    for position in range(values_width):\n",
    "        \n",
    "        bit_values = []\n",
    "        \n",
    "        for code in binary_codes:\n",
    "            bit_values.append(int(code[position]))\n",
    "            \n",
    "        ones_count = sum(bit_values)\n",
    "        zeroes_count = values_length - ones_count\n",
    "        \n",
    "        most_common_value = '1' if ones_count >= zeroes_count else '0'\n",
    "        least_common_value = '0' if ones_count >= zeroes_count else '1'\n",
    "        \n",
    "        if not inverted:\n",
    "            mask_bit = most_common_value\n",
    "        else:\n",
    "            mask_bit = least_common_value\n",
    "\n",
    "        mask.append(mask_bit)\n",
    "    \n",
    "    return mask\n",
    "\n",
    "# find matches\n",
    "def bit_matched_codes(codes, bit, position):\n",
    "    matched_codes=[]\n",
    "    \n",
    "    for code in codes:\n",
    "        if code[position] == bit:\n",
    "            matched_codes.append(code)\n",
    "    \n",
    "    return matched_codes\n",
    "\n",
    "def p2(binary_codes):\n",
    "\n",
    "    # recurse code lists\n",
    "    # collapse to reduce redundant code\n",
    "\n",
    "    o2_codes = binary_codes\n",
    "    position = 0\n",
    "    mask = get_bit_mask(o2_codes)\n",
    "\n",
    "    while position < len(mask) and len(o2_codes) > 1:\n",
    "        o2_codes = bit_matched_codes(o2_codes, mask[position], position)\n",
    "        mask = get_bit_mask(o2_codes)\n",
    "        position+=1\n",
    "\n",
    "    co2_codes = binary_codes\n",
    "    position = 0\n",
    "    mask = get_bit_mask(co2_codes, inverted=True)\n",
    "\n",
    "    while position < len(mask) and len(co2_codes) > 1:\n",
    "        co2_codes = bit_matched_codes(co2_codes, mask[position], position)\n",
    "        mask = get_bit_mask(co2_codes, inverted=True)\n",
    "        position+=1\n",
    "\n",
    "    print(o2_codes, co2_codes)\n",
    "\n",
    "    # calculate values of matches and final result\n",
    "\n",
    "    o2_generator_rating = int(o2_codes[0], base=2)\n",
    "    co2_scrubber_rating = int(co2_codes[0], base=2)\n",
    "\n",
    "    print(o2_generator_rating, co2_scrubber_rating)\n",
    "\n",
    "    life_support_rating = o2_generator_rating * co2_scrubber_rating\n",
    "\n",
    "    return life_support_rating\n"
   ]
  },
  {
   "cell_type": "code",
   "execution_count": 213,
   "id": "4a76023a",
   "metadata": {},
   "outputs": [
    {
     "name": "stdout",
     "output_type": "stream",
     "text": [
      "['101011011101'] ['001110010111']\n",
      "2781 919\n"
     ]
    },
    {
     "data": {
      "text/plain": [
       "2555739"
      ]
     },
     "execution_count": 213,
     "metadata": {},
     "output_type": "execute_result"
    }
   ],
   "source": [
    "p2(binary_values)"
   ]
  }
 ],
 "metadata": {
  "kernelspec": {
   "display_name": "Python 3",
   "language": "python",
   "name": "python3"
  },
  "language_info": {
   "codemirror_mode": {
    "name": "ipython",
    "version": 3
   },
   "file_extension": ".py",
   "mimetype": "text/x-python",
   "name": "python",
   "nbconvert_exporter": "python",
   "pygments_lexer": "ipython3",
   "version": "3.8.8"
  }
 },
 "nbformat": 4,
 "nbformat_minor": 5
}
