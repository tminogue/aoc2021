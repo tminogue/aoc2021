{
 "cells": [
  {
   "cell_type": "markdown",
   "id": "95c5e2af",
   "metadata": {},
   "source": [
    "# AOC 2021.01"
   ]
  },
  {
   "cell_type": "markdown",
   "id": "97c1c29e",
   "metadata": {},
   "source": [
    "## Part 1"
   ]
  },
  {
   "cell_type": "code",
   "execution_count": 13,
   "id": "b75bb6d7",
   "metadata": {},
   "outputs": [],
   "source": [
    "# initialize list of depths as integers\n",
    "\n",
    "depths_file = open('./inputs/01_depths.txt')\n",
    "depth_measures_str = depths_file.read().splitlines()\n",
    "depth_measures = []\n",
    "\n",
    "# convert strings to integers\n",
    "for dstr in depth_measures_str:\n",
    "    depth_measures.append(int(dstr))"
   ]
  },
  {
   "cell_type": "code",
   "execution_count": 2,
   "id": "0e237b3b",
   "metadata": {},
   "outputs": [],
   "source": [
    "def depth_counter(depth_measures):\n",
    "    increment_count = 0\n",
    "    for idx, depth in enumerate(depth_measures):\n",
    "        # do not evaluate last depth measure\n",
    "        if idx < len(depth_measures)-1:\n",
    "            if depth_measures[idx+1] > depth_measures[idx]:\n",
    "                increment_count+=1\n",
    "                \n",
    "    return increment_count"
   ]
  },
  {
   "cell_type": "code",
   "execution_count": 3,
   "id": "82c3bae2",
   "metadata": {},
   "outputs": [
    {
     "data": {
      "text/plain": [
       "1602"
      ]
     },
     "execution_count": 3,
     "metadata": {},
     "output_type": "execute_result"
    }
   ],
   "source": [
    "depth_counter(depth_measures)"
   ]
  },
  {
   "cell_type": "markdown",
   "id": "af64892d",
   "metadata": {},
   "source": [
    "## Part 2"
   ]
  },
  {
   "cell_type": "code",
   "execution_count": 5,
   "id": "91b8bcde",
   "metadata": {},
   "outputs": [],
   "source": [
    "# initialize list of depths as integers\n",
    "\n",
    "depths_file = open('./inputs/02_depths.txt')\n",
    "depth_measures_str = depths_file.read().splitlines()\n",
    "depth_measures = []\n",
    "\n",
    "# convert strings to integers\n",
    "for dstr in depth_measures_str:\n",
    "    depth_measures.append(int(dstr))"
   ]
  },
  {
   "cell_type": "code",
   "execution_count": 14,
   "id": "0849cc8d",
   "metadata": {},
   "outputs": [],
   "source": [
    "def depth_window_counter(depth_measures, window_size):\n",
    "    #WINDOW_SIZE = 3\n",
    "    increment_count = 0\n",
    "    \n",
    "    for idx, depth in enumerate(depth_measures):\n",
    "        # do not evaluate last depth window measure\n",
    "        if idx < len(depth_measures) - window_size:\n",
    "            \n",
    "            window1 = depth_measures[idx:idx+window_size]\n",
    "            window2 = depth_measures[idx+1:idx+1+window_size]\n",
    "\n",
    "            if sum(window2) > sum(window1):\n",
    "                increment_count+=1\n",
    "                \n",
    "    return increment_count"
   ]
  },
  {
   "cell_type": "code",
   "execution_count": 16,
   "id": "bf27d094",
   "metadata": {},
   "outputs": [
    {
     "data": {
      "text/plain": [
       "1633"
      ]
     },
     "execution_count": 16,
     "metadata": {},
     "output_type": "execute_result"
    }
   ],
   "source": [
    "depth_window_counter(depth_measures, 3)"
   ]
  }
 ],
 "metadata": {
  "kernelspec": {
   "display_name": "Python 3",
   "language": "python",
   "name": "python3"
  },
  "language_info": {
   "codemirror_mode": {
    "name": "ipython",
    "version": 3
   },
   "file_extension": ".py",
   "mimetype": "text/x-python",
   "name": "python",
   "nbconvert_exporter": "python",
   "pygments_lexer": "ipython3",
   "version": "3.8.8"
  }
 },
 "nbformat": 4,
 "nbformat_minor": 5
}
